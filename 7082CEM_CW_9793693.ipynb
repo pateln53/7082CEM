{
 "cells": [
  {
   "cell_type": "code",
   "execution_count": null,
   "metadata": {},
   "outputs": [],
   "source": [
    "!pip3 install plotly  # For plotting data\n",
    "!pip3 install scipy\n",
    "!pip3 install sklearn # Machine Learning Algorithms (Logistic Regression, Random Forest, Decision Tree)\n",
    "!pip3 install seaborn # Correlation Matrix"
   ]
  },
  {
   "cell_type": "code",
   "execution_count": null,
   "metadata": {},
   "outputs": [],
   "source": [
    "# Download the dataset from Kaggle\n",
    "# Direct Download link to the dataset: https://www.kaggle.com/andrewmvd/heart-failure-clinical-data/download"
   ]
  },
  {
   "cell_type": "code",
   "execution_count": null,
   "metadata": {},
   "outputs": [],
   "source": [
    "# Load Dataset using Pyspark\n",
    "import pyspark\n",
    "df = spark.read.format(\"csv\").option(\"inferSchema\",\"true\").option(\"header\",\"true\").load(\"Desktop/heart_failure_clinical_records_dataset.csv\")"
   ]
  },
  {
   "cell_type": "code",
   "execution_count": null,
   "metadata": {},
   "outputs": [],
   "source": [
    "df.printSchema()"
   ]
  },
  {
   "cell_type": "code",
   "execution_count": null,
   "metadata": {},
   "outputs": [],
   "source": [
    "print(df.columns)"
   ]
  },
  {
   "cell_type": "code",
   "execution_count": null,
   "metadata": {},
   "outputs": [],
   "source": [
    "df.show(5)\n",
    "print('Total records in dataset are',df.count())"
   ]
  },
  {
   "cell_type": "code",
   "execution_count": null,
   "metadata": {},
   "outputs": [],
   "source": [
    "df.groupby('DEATH_EVENT').count().toPandas()"
   ]
  },
  {
   "cell_type": "code",
   "execution_count": null,
   "metadata": {
    "scrolled": true
   },
   "outputs": [],
   "source": [
    "## Identify if there are any Nulls or missing values (NaNs)\n",
    "from pyspark.sql.functions import isnull, when, count, col\n",
    "df.select([count(when(isnull(c), c)).alias(c) for c in df.columns]).show()"
   ]
  },
  {
   "cell_type": "code",
   "execution_count": null,
   "metadata": {},
   "outputs": [],
   "source": [
    "from pyspark.sql.functions import isnan, when, count, col\n",
    "df.select([count(when(isnan(c), c)).alias(c) for c in df.columns]).show()"
   ]
  },
  {
   "cell_type": "code",
   "execution_count": null,
   "metadata": {},
   "outputs": [],
   "source": [
    "!pip3 install pyarrow\n",
    "spark.conf.set(\"spark.sql.execution.arrow.pyspark.enabled\", \"true\")\n",
    "heart_data = df.select(\"*\").toPandas()"
   ]
  },
  {
   "cell_type": "code",
   "execution_count": null,
   "metadata": {},
   "outputs": [],
   "source": [
    "heart_data.head()"
   ]
  },
  {
   "cell_type": "code",
   "execution_count": null,
   "metadata": {
    "scrolled": false
   },
   "outputs": [],
   "source": [
    "heart_data.describe()"
   ]
  },
  {
   "cell_type": "code",
   "execution_count": null,
   "metadata": {},
   "outputs": [],
   "source": [
    "heart_data.shape"
   ]
  },
  {
   "cell_type": "code",
   "execution_count": null,
   "metadata": {},
   "outputs": [],
   "source": [
    "# EDA - Exploratory Data Analysis \n",
    "\n",
    "#Histogram for all the continuous variables\n",
    "import matplotlib.pyplot as plt\n",
    "plt.rcParams['figure.figsize']=[20,20]\n",
    "heart_data[['age','creatinine_phosphokinase','ejection_fraction','platelets','serum_creatinine','serum_sodium']].hist()"
   ]
  },
  {
   "cell_type": "code",
   "execution_count": null,
   "metadata": {},
   "outputs": [],
   "source": [
    "# Age Distribution\n",
    "\n",
    "import plotly.figure_factory as ply\n",
    "fig1 = ply.create_distplot([heart_data[\"age\"]], [\"age\"])\n",
    "fig1.update_layout(title_text='Age Distribution plot')\n",
    "fig1.show()"
   ]
  },
  {
   "cell_type": "code",
   "execution_count": null,
   "metadata": {},
   "outputs": [],
   "source": [
    "# Age vs Sex Distribution Plot\n",
    "import plotly.express as px\n",
    "fig2 = px.histogram(heart_data,x='age',color='sex',nbins=50,title='Patient Age vs Sex Distribution')\n",
    "fig2.show()"
   ]
  },
  {
   "cell_type": "code",
   "execution_count": null,
   "metadata": {},
   "outputs": [],
   "source": [
    "# Age vs Death Event Distribution Plot \n",
    "fig3 = px.histogram(heart_data,x='age',color='DEATH_EVENT',nbins=50,title=\"Patient's Age vs Death Event Distribution\")\n",
    "fig3.show()"
   ]
  },
  {
   "cell_type": "code",
   "execution_count": null,
   "metadata": {},
   "outputs": [],
   "source": [
    "# Age vs Death event box plot\n",
    "fig4 = px.box (heart_data,x=\"DEATH_EVENT\",y=\"age\",points='all',title=\"Patient's Age vs Death events Box Plot\")\n",
    "fig4.show()"
   ]
  },
  {
   "cell_type": "code",
   "execution_count": null,
   "metadata": {},
   "outputs": [],
   "source": [
    "# Sex vs Death event Pie Chart\n",
    "fig5 = px.pie(heart_data, values='DEATH_EVENT',names='sex', title=\"Pie Chart distribution of Death event by Gender\",width=500, height=500)\n",
    "fig5.show()"
   ]
  },
  {
   "cell_type": "code",
   "execution_count": null,
   "metadata": {},
   "outputs": [],
   "source": [
    "px.histogram(heart_data,x='creatinine_phosphokinase',color='DEATH_EVENT',nbins=50,title=\"Survival rate of patients with CPK\")"
   ]
  },
  {
   "cell_type": "code",
   "execution_count": null,
   "metadata": {},
   "outputs": [],
   "source": [
    "px.pie(heart_data, values='DEATH_EVENT',names='anaemia', title=\"Survival rate of patients with Anaemia\",width=500, height=500)"
   ]
  },
  {
   "cell_type": "code",
   "execution_count": null,
   "metadata": {},
   "outputs": [],
   "source": [
    "px.pie(heart_data, values='DEATH_EVENT',names='diabetes', title=\"Survival rate of patients with Diabetes\",width=500, height=500)"
   ]
  },
  {
   "cell_type": "code",
   "execution_count": null,
   "metadata": {},
   "outputs": [],
   "source": [
    "px.pie(heart_data, values='DEATH_EVENT',names='high_blood_pressure', title=\"Survival rate of patients with High Blood pressure\",width=500, height=500)"
   ]
  },
  {
   "cell_type": "code",
   "execution_count": null,
   "metadata": {},
   "outputs": [],
   "source": [
    "px.histogram(heart_data,x='ejection_fraction',color='DEATH_EVENT',nbins=50,title=\"Survival rate of patients with Ejection Fraction\")"
   ]
  },
  {
   "cell_type": "code",
   "execution_count": null,
   "metadata": {},
   "outputs": [],
   "source": [
    "px.histogram(heart_data,x='serum_creatinine',color='DEATH_EVENT',nbins=50,title=\"Survival rate of patients with serum creatinine in blood\")"
   ]
  },
  {
   "cell_type": "code",
   "execution_count": null,
   "metadata": {},
   "outputs": [],
   "source": [
    "px.histogram(heart_data,x='serum_sodium',color='DEATH_EVENT',nbins=50,title=\"Survival rate of patients with serum sodium in blood\")"
   ]
  },
  {
   "cell_type": "code",
   "execution_count": null,
   "metadata": {},
   "outputs": [],
   "source": [
    "px.histogram(heart_data,x='platelets',color='DEATH_EVENT',nbins=50,title=\"Survival rate vs patient's platelets count\")"
   ]
  },
  {
   "cell_type": "code",
   "execution_count": null,
   "metadata": {},
   "outputs": [],
   "source": [
    "px.pie(heart_data, values='DEATH_EVENT',names='smoking', title=\"Survival rate of patients with smoking traces\",width=500, height=500)"
   ]
  },
  {
   "cell_type": "code",
   "execution_count": null,
   "metadata": {},
   "outputs": [],
   "source": [
    "# Correlation matrix to identify feature relationships and finalize top features\n",
    "\n",
    "import seaborn as sns\n",
    "\n",
    "hd_corr_mtrx = heart_data.corr()\n",
    "ax, fig = plt.subplots(figsize=(15,15))\n",
    "sns.heatmap(hd_corr_mtrx, vmin=-1, cmap='coolwarm', annot=True)\n",
    "plt.show()"
   ]
  },
  {
   "cell_type": "code",
   "execution_count": null,
   "metadata": {},
   "outputs": [],
   "source": [
    "hd_corr_mtrx[abs(hd_corr_mtrx['DEATH_EVENT']) > 0.1]['DEATH_EVENT']"
   ]
  },
  {
   "cell_type": "code",
   "execution_count": null,
   "metadata": {},
   "outputs": [],
   "source": [
    "# Assemble all the features with VectorAssembler\n",
    "\n",
    "main_features = ['age',\n",
    "                 'ejection_fraction',\n",
    "                 'serum_creatinine',\n",
    "                 'serum_sodium',\n",
    "                 'time'\n",
    "                 ]\n",
    "\n",
    "from pyspark.ml.feature import VectorAssembler\n",
    "\n",
    "VA = VectorAssembler(inputCols=main_features, outputCol='finalfeatures')\n",
    "\n",
    "final_df = VA.transform(df)\n",
    "final_df.show(5)"
   ]
  },
  {
   "cell_type": "code",
   "execution_count": null,
   "metadata": {},
   "outputs": [],
   "source": [
    "# Split the data\n",
    "(training_set, test_set) = final_df.randomSplit([0.6,0.4], seed =2000)\n",
    "print(\"Training Dataset Count: \" + str(training_set.count()))\n",
    "print(\"Test Dataset Count: \" + str(test_set.count()))"
   ]
  },
  {
   "cell_type": "code",
   "execution_count": null,
   "metadata": {},
   "outputs": [],
   "source": [
    "# Model Training\n",
    "\n",
    "# Random Forest Classification Model\n",
    "\n",
    "from pyspark.ml.classification import RandomForestClassifier\n",
    "randomforest = RandomForestClassifier(labelCol='DEATH_EVENT',featuresCol='finalfeatures',numTrees=10)\n",
    "rcf_mod = randomforest.fit(training_set)\n",
    "rcf_pred = rcf_mod.transform(test_set)\n",
    "\n",
    "from pyspark.ml.evaluation import MulticlassClassificationEvaluator\n",
    "MCE = MulticlassClassificationEvaluator(labelCol = 'DEATH_EVENT', metricName = 'accuracy')\n",
    "accuracy_rcf = MCE.evaluate(rcf_pred)\n",
    "\n",
    "print('Accuracy of Random Forest Model:', accuracy_rcf)\n",
    "print('Testing error of the Random Forest Model:' , (1.0 - accuracy_rcf))"
   ]
  },
  {
   "cell_type": "code",
   "execution_count": null,
   "metadata": {},
   "outputs": [],
   "source": [
    "# Decision Tree Classification Model\n",
    "\n",
    "from pyspark.ml.classification import DecisionTreeClassifier\n",
    "dectree = DecisionTreeClassifier(labelCol='DEATH_EVENT',featuresCol='finalfeatures',maxDepth=10)\n",
    "dtc_mod = dectree.fit(training_set)\n",
    "dt_pred = dtc_mod.transform(test_set)\n",
    "\n",
    "accuracy_dt = MCE.evaluate(dt_pred)\n",
    "\n",
    "print('Accuracy of Random Forest Model:', accuracy_dt)\n",
    "print('Testing error of the Random Forest Model:' , (1.0 - accuracy_dt))"
   ]
  },
  {
   "cell_type": "code",
   "execution_count": null,
   "metadata": {},
   "outputs": [],
   "source": [
    "# Logistic Regression Classification Model\n",
    "\n",
    "from pyspark.ml.classification import LogisticRegression\n",
    "\n",
    "logreg = LogisticRegression(labelCol='DEATH_EVENT',featuresCol='finalfeatures',maxIter=10)\n",
    "lrc_mod = logreg.fit(training_set)\n",
    "lr_pred = lrc_mod.transform(test_set)\n",
    "\n",
    "accuracy_lr = MCE.evaluate(lr_pred)\n",
    "\n",
    "print('Accuracy of Random Forest Model:', accuracy_lr)\n",
    "print('Testing error of the Random Forest Model:' , (1.0 - accuracy_lr))"
   ]
  },
  {
   "cell_type": "code",
   "execution_count": null,
   "metadata": {},
   "outputs": [],
   "source": [
    "# Accuracy summary of all three Machine Learning Models\n",
    "\n",
    "from pyspark.ml.evaluation import MulticlassClassificationEvaluator\n",
    "MCE = MulticlassClassificationEvaluator(labelCol = 'DEATH_EVENT', metricName = 'accuracy')\n",
    "\n",
    "print('Accuracy of Random Forest Model:', MCE.evaluate(rcf_pred))\n",
    "print('Accuracy of Decision Tree Model:', MCE.evaluate(dt_pred))\n",
    "print('Accuracy of Logistic Regression Model:', MCE.evaluate(lr_pred))"
   ]
  }
 ],
 "metadata": {
  "kernelspec": {
   "display_name": "Python 3",
   "language": "python",
   "name": "python3"
  },
  "language_info": {
   "codemirror_mode": {
    "name": "ipython",
    "version": 3
   },
   "file_extension": ".py",
   "mimetype": "text/x-python",
   "name": "python",
   "nbconvert_exporter": "python",
   "pygments_lexer": "ipython3",
   "version": "3.8.5"
  }
 },
 "nbformat": 4,
 "nbformat_minor": 4
}
